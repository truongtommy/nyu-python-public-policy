{
  "nbformat": 4,
  "nbformat_minor": 0,
  "metadata": {
    "colab": {
      "name": "HW2",
      "provenance": [],
      "collapsed_sections": [],
      "include_colab_link": true
    },
    "kernelspec": {
      "name": "python3",
      "display_name": "Python 3"
    }
  },
  "cells": [
    {
      "cell_type": "markdown",
      "metadata": {
        "id": "view-in-github",
        "colab_type": "text"
      },
      "source": [
        "<a href=\"https://colab.research.google.com/github/truongtommy/nyu-python-public-policy/blob/master/HW2.ipynb\" target=\"_parent\"><img src=\"https://colab.research.google.com/assets/colab-badge.svg\" alt=\"Open In Colab\"/></a>"
      ]
    },
    {
      "cell_type": "code",
      "metadata": {
        "id": "uWuRkPOifICY",
        "colab_type": "code",
        "colab": {
          "base_uri": "https://localhost:8080/",
          "height": 121
        },
        "outputId": "85c97b29-218f-43f1-b97a-e7cbc956c46f"
      },
      "source": [
        "import pandas as pd \n",
        "from google.colab import drive \n",
        "drive.mount('/content/drive')"
      ],
      "execution_count": 3,
      "outputs": [
        {
          "output_type": "stream",
          "text": [
            "Go to this URL in a browser: https://accounts.google.com/o/oauth2/auth?client_id=947318989803-6bn6qk8qdgf4n4g3pfee6491hc0brc4i.apps.googleusercontent.com&redirect_uri=urn%3Aietf%3Awg%3Aoauth%3A2.0%3Aoob&scope=email%20https%3A%2F%2Fwww.googleapis.com%2Fauth%2Fdocs.test%20https%3A%2F%2Fwww.googleapis.com%2Fauth%2Fdrive%20https%3A%2F%2Fwww.googleapis.com%2Fauth%2Fdrive.photos.readonly%20https%3A%2F%2Fwww.googleapis.com%2Fauth%2Fpeopleapi.readonly&response_type=code\n",
            "\n",
            "Enter your authorization code:\n",
            "··········\n",
            "Mounted at /content/drive\n"
          ],
          "name": "stdout"
        }
      ]
    },
    {
      "cell_type": "code",
      "metadata": {
        "id": "HfVwHWR8hXwN",
        "colab_type": "code",
        "colab": {
          "base_uri": "https://localhost:8080/",
          "height": 70
        },
        "outputId": "f6e62a6e-f7ed-4439-8973-29c1cfb8237c"
      },
      "source": [
        "#Import cleaned 311 data frame as df \n",
        "df = pd.read_csv('/content/drive/My Drive/Data for Python/cleaned_311_data.csv', header='infer')"
      ],
      "execution_count": 7,
      "outputs": [
        {
          "output_type": "stream",
          "text": [
            "/usr/local/lib/python3.6/dist-packages/IPython/core/interactiveshell.py:2718: DtypeWarning: Columns (9,18,21,32,35) have mixed types. Specify dtype option on import or set low_memory=False.\n",
            "  interactivity=interactivity, compiler=compiler, result=result)\n"
          ],
          "name": "stderr"
        }
      ]
    },
    {
      "cell_type": "markdown",
      "metadata": {
        "id": "nO2sEIrglXpa",
        "colab_type": "text"
      },
      "source": [
        ""
      ]
    },
    {
      "cell_type": "code",
      "metadata": {
        "id": "ta0Of9cSkDxT",
        "colab_type": "code",
        "colab": {
          "base_uri": "https://localhost:8080/",
          "height": 195
        },
        "outputId": "8947063a-a28e-4e61-e210-80b93a250b60"
      },
      "source": [
        "counts = df.groupby('open_data_channel_type').size().reset_index(name='count')\n",
        "counts"
      ],
      "execution_count": 17,
      "outputs": [
        {
          "output_type": "execute_result",
          "data": {
            "text/html": [
              "<div>\n",
              "<style scoped>\n",
              "    .dataframe tbody tr th:only-of-type {\n",
              "        vertical-align: middle;\n",
              "    }\n",
              "\n",
              "    .dataframe tbody tr th {\n",
              "        vertical-align: top;\n",
              "    }\n",
              "\n",
              "    .dataframe thead th {\n",
              "        text-align: right;\n",
              "    }\n",
              "</style>\n",
              "<table border=\"1\" class=\"dataframe\">\n",
              "  <thead>\n",
              "    <tr style=\"text-align: right;\">\n",
              "      <th></th>\n",
              "      <th>open_data_channel_type</th>\n",
              "      <th>count</th>\n",
              "    </tr>\n",
              "  </thead>\n",
              "  <tbody>\n",
              "    <tr>\n",
              "      <th>0</th>\n",
              "      <td>MOBILE</td>\n",
              "      <td>368759</td>\n",
              "    </tr>\n",
              "    <tr>\n",
              "      <th>1</th>\n",
              "      <td>ONLINE</td>\n",
              "      <td>589865</td>\n",
              "    </tr>\n",
              "    <tr>\n",
              "      <th>2</th>\n",
              "      <td>OTHER</td>\n",
              "      <td>19267</td>\n",
              "    </tr>\n",
              "    <tr>\n",
              "      <th>3</th>\n",
              "      <td>PHONE</td>\n",
              "      <td>1463204</td>\n",
              "    </tr>\n",
              "    <tr>\n",
              "      <th>4</th>\n",
              "      <td>UNKNOWN</td>\n",
              "      <td>417916</td>\n",
              "    </tr>\n",
              "  </tbody>\n",
              "</table>\n",
              "</div>"
            ],
            "text/plain": [
              "  open_data_channel_type    count\n",
              "0                 MOBILE   368759\n",
              "1                 ONLINE   589865\n",
              "2                  OTHER    19267\n",
              "3                  PHONE  1463204\n",
              "4                UNKNOWN   417916"
            ]
          },
          "metadata": {
            "tags": []
          },
          "execution_count": 17
        }
      ]
    },
    {
      "cell_type": "markdown",
      "metadata": {
        "id": "8CsZ9KP9mx-3",
        "colab_type": "text"
      },
      "source": [
        "Q1. The most frequent complaint type submission method is by phone. "
      ]
    },
    {
      "cell_type": "code",
      "metadata": {
        "id": "-hgWYhPen2Sd",
        "colab_type": "code",
        "colab": {
          "base_uri": "https://localhost:8080/",
          "height": 402
        },
        "outputId": "b9dedb5b-44ac-4497-ee22-f06edd3d67cc"
      },
      "source": [
        "#Counting each submission method per complaint type and getting the largest 30 counts\n",
        "channel_by_type= df.groupby(['complaint_type','open_data_channel_type']).size().reset_index(name='count')\n",
        "channel_by_type"
      ],
      "execution_count": 32,
      "outputs": [
        {
          "output_type": "execute_result",
          "data": {
            "text/html": [
              "<div>\n",
              "<style scoped>\n",
              "    .dataframe tbody tr th:only-of-type {\n",
              "        vertical-align: middle;\n",
              "    }\n",
              "\n",
              "    .dataframe tbody tr th {\n",
              "        vertical-align: top;\n",
              "    }\n",
              "\n",
              "    .dataframe thead th {\n",
              "        text-align: right;\n",
              "    }\n",
              "</style>\n",
              "<table border=\"1\" class=\"dataframe\">\n",
              "  <thead>\n",
              "    <tr style=\"text-align: right;\">\n",
              "      <th></th>\n",
              "      <th>complaint_type</th>\n",
              "      <th>open_data_channel_type</th>\n",
              "      <th>count</th>\n",
              "    </tr>\n",
              "  </thead>\n",
              "  <tbody>\n",
              "    <tr>\n",
              "      <th>0</th>\n",
              "      <td>APPLIANCE</td>\n",
              "      <td>ONLINE</td>\n",
              "      <td>2627</td>\n",
              "    </tr>\n",
              "    <tr>\n",
              "      <th>1</th>\n",
              "      <td>APPLIANCE</td>\n",
              "      <td>PHONE</td>\n",
              "      <td>12002</td>\n",
              "    </tr>\n",
              "    <tr>\n",
              "      <th>2</th>\n",
              "      <td>Abandoned Vehicle</td>\n",
              "      <td>MOBILE</td>\n",
              "      <td>2484</td>\n",
              "    </tr>\n",
              "    <tr>\n",
              "      <th>3</th>\n",
              "      <td>Abandoned Vehicle</td>\n",
              "      <td>ONLINE</td>\n",
              "      <td>1891</td>\n",
              "    </tr>\n",
              "    <tr>\n",
              "      <th>4</th>\n",
              "      <td>Abandoned Vehicle</td>\n",
              "      <td>PHONE</td>\n",
              "      <td>5069</td>\n",
              "    </tr>\n",
              "    <tr>\n",
              "      <th>...</th>\n",
              "      <td>...</td>\n",
              "      <td>...</td>\n",
              "      <td>...</td>\n",
              "    </tr>\n",
              "    <tr>\n",
              "      <th>514</th>\n",
              "      <td>Window Guard</td>\n",
              "      <td>ONLINE</td>\n",
              "      <td>17</td>\n",
              "    </tr>\n",
              "    <tr>\n",
              "      <th>515</th>\n",
              "      <td>Window Guard</td>\n",
              "      <td>PHONE</td>\n",
              "      <td>13</td>\n",
              "    </tr>\n",
              "    <tr>\n",
              "      <th>516</th>\n",
              "      <td>Window Guard</td>\n",
              "      <td>UNKNOWN</td>\n",
              "      <td>1</td>\n",
              "    </tr>\n",
              "    <tr>\n",
              "      <th>517</th>\n",
              "      <td>X-Ray Machine/Equipment</td>\n",
              "      <td>ONLINE</td>\n",
              "      <td>5</td>\n",
              "    </tr>\n",
              "    <tr>\n",
              "      <th>518</th>\n",
              "      <td>X-Ray Machine/Equipment</td>\n",
              "      <td>PHONE</td>\n",
              "      <td>4</td>\n",
              "    </tr>\n",
              "  </tbody>\n",
              "</table>\n",
              "<p>519 rows × 3 columns</p>\n",
              "</div>"
            ],
            "text/plain": [
              "              complaint_type open_data_channel_type  count\n",
              "0                  APPLIANCE                 ONLINE   2627\n",
              "1                  APPLIANCE                  PHONE  12002\n",
              "2          Abandoned Vehicle                 MOBILE   2484\n",
              "3          Abandoned Vehicle                 ONLINE   1891\n",
              "4          Abandoned Vehicle                  PHONE   5069\n",
              "..                       ...                    ...    ...\n",
              "514             Window Guard                 ONLINE     17\n",
              "515             Window Guard                  PHONE     13\n",
              "516             Window Guard                UNKNOWN      1\n",
              "517  X-Ray Machine/Equipment                 ONLINE      5\n",
              "518  X-Ray Machine/Equipment                  PHONE      4\n",
              "\n",
              "[519 rows x 3 columns]"
            ]
          },
          "metadata": {
            "tags": []
          },
          "execution_count": 32
        }
      ]
    },
    {
      "cell_type": "markdown",
      "metadata": {
        "id": "jYnz7bK2pK7j",
        "colab_type": "text"
      },
      "source": [
        "Q2. The frequency of complaint submission methods may vary by complaint type depending on the nature of the complaint. For example, complaints of illegal parking are more frequently made\n",
        "by mobile or phone than website. This may be because someone is reporting this while away they're out and on a mobile device rather than a website. "
      ]
    },
    {
      "cell_type": "code",
      "metadata": {
        "id": "m2uLvH5GqYJA",
        "colab_type": "code",
        "colab": {
          "base_uri": "https://localhost:8080/",
          "height": 402
        },
        "outputId": "20621bd3-ea1c-4293-c67d-82951c43dc0f"
      },
      "source": [
        "channel_by_type.sort_values(['count','open_data_channel_type'], ascending=[False,True]).drop_duplicates(['complaint_type'])"
      ],
      "execution_count": 34,
      "outputs": [
        {
          "output_type": "execute_result",
          "data": {
            "text/html": [
              "<div>\n",
              "<style scoped>\n",
              "    .dataframe tbody tr th:only-of-type {\n",
              "        vertical-align: middle;\n",
              "    }\n",
              "\n",
              "    .dataframe tbody tr th {\n",
              "        vertical-align: top;\n",
              "    }\n",
              "\n",
              "    .dataframe thead th {\n",
              "        text-align: right;\n",
              "    }\n",
              "</style>\n",
              "<table border=\"1\" class=\"dataframe\">\n",
              "  <thead>\n",
              "    <tr style=\"text-align: right;\">\n",
              "      <th></th>\n",
              "      <th>complaint_type</th>\n",
              "      <th>open_data_channel_type</th>\n",
              "      <th>count</th>\n",
              "    </tr>\n",
              "  </thead>\n",
              "  <tbody>\n",
              "    <tr>\n",
              "      <th>378</th>\n",
              "      <td>Request Large Bulky Item Collection</td>\n",
              "      <td>PHONE</td>\n",
              "      <td>177175</td>\n",
              "    </tr>\n",
              "    <tr>\n",
              "      <th>200</th>\n",
              "      <td>HEAT/HOT WATER</td>\n",
              "      <td>PHONE</td>\n",
              "      <td>128002</td>\n",
              "    </tr>\n",
              "    <tr>\n",
              "      <th>316</th>\n",
              "      <td>Noise - Residential</td>\n",
              "      <td>PHONE</td>\n",
              "      <td>95407</td>\n",
              "    </tr>\n",
              "    <tr>\n",
              "      <th>47</th>\n",
              "      <td>Blocked Driveway</td>\n",
              "      <td>PHONE</td>\n",
              "      <td>95206</td>\n",
              "    </tr>\n",
              "    <tr>\n",
              "      <th>429</th>\n",
              "      <td>Street Light Condition</td>\n",
              "      <td>UNKNOWN</td>\n",
              "      <td>77755</td>\n",
              "    </tr>\n",
              "    <tr>\n",
              "      <th>...</th>\n",
              "      <td>...</td>\n",
              "      <td>...</td>\n",
              "      <td>...</td>\n",
              "    </tr>\n",
              "    <tr>\n",
              "      <th>517</th>\n",
              "      <td>X-Ray Machine/Equipment</td>\n",
              "      <td>ONLINE</td>\n",
              "      <td>5</td>\n",
              "    </tr>\n",
              "    <tr>\n",
              "      <th>7</th>\n",
              "      <td>Advocate - RPIE</td>\n",
              "      <td>PHONE</td>\n",
              "      <td>5</td>\n",
              "    </tr>\n",
              "    <tr>\n",
              "      <th>9</th>\n",
              "      <td>Advocate-Commercial Exemptions</td>\n",
              "      <td>PHONE</td>\n",
              "      <td>5</td>\n",
              "    </tr>\n",
              "    <tr>\n",
              "      <th>52</th>\n",
              "      <td>Bottled Water</td>\n",
              "      <td>PHONE</td>\n",
              "      <td>5</td>\n",
              "    </tr>\n",
              "    <tr>\n",
              "      <th>182</th>\n",
              "      <td>Forensic Engineering</td>\n",
              "      <td>UNKNOWN</td>\n",
              "      <td>5</td>\n",
              "    </tr>\n",
              "  </tbody>\n",
              "</table>\n",
              "<p>229 rows × 3 columns</p>\n",
              "</div>"
            ],
            "text/plain": [
              "                          complaint_type open_data_channel_type   count\n",
              "378  Request Large Bulky Item Collection                  PHONE  177175\n",
              "200                       HEAT/HOT WATER                  PHONE  128002\n",
              "316                  Noise - Residential                  PHONE   95407\n",
              "47                      Blocked Driveway                  PHONE   95206\n",
              "429               Street Light Condition                UNKNOWN   77755\n",
              "..                                   ...                    ...     ...\n",
              "517              X-Ray Machine/Equipment                 ONLINE       5\n",
              "7                        Advocate - RPIE                  PHONE       5\n",
              "9         Advocate-Commercial Exemptions                  PHONE       5\n",
              "52                         Bottled Water                  PHONE       5\n",
              "182                 Forensic Engineering                UNKNOWN       5\n",
              "\n",
              "[229 rows x 3 columns]"
            ]
          },
          "metadata": {
            "tags": []
          },
          "execution_count": 34
        }
      ]
    }
  ]
}